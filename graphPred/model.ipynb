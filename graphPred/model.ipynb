{
 "cells": [
  {
   "cell_type": "code",
   "execution_count": 24,
   "id": "08434a59",
   "metadata": {},
   "outputs": [],
   "source": [
    "import torch\n",
    "from torch_geometric.data import Data\n",
    "from torch_geometric.nn import GCNConv\n",
    "import torch.nn.functional as F"
   ]
  },
  {
   "cell_type": "code",
   "execution_count": 25,
   "id": "c4b5652c",
   "metadata": {},
   "outputs": [],
   "source": [
    "#feature data for each node\n",
    "x = torch.tensor([[1.2, 1.3, 1.1], [2.1, 2.2, 2.0], [3.5, 3.6, 3.4]], dtype=torch.float)\n",
    "\n",
    "edge_index = torch.tensor([[0, 1, 1, 2], [1, 0, 2, 1]], dtype=torch.long)\n",
    "y = torch.tensor([[1.4], [2.3], [3.7]], dtype=torch.float) #predicted variable\n",
    "\n",
    "data = Data(x=x, edge_index=edge_index,y=y)"
   ]
  },
  {
   "cell_type": "code",
   "execution_count": 26,
   "id": "de091294",
   "metadata": {},
   "outputs": [],
   "source": [
    "class GNN(torch.nn.Module):\n",
    "    def __init__(self, in_channels, hidden_channels, out_channels):\n",
    "        super().__init__()\n",
    "        #for message passing and aggregation\n",
    "        self.conv1 = GCNConv(in_channels, hidden_channels)\n",
    "        self.conv2 = GCNConv(hidden_channels, out_channels)\n",
    "\n",
    "    def forward(self, data):\n",
    "        x, edge_index = data.x, data.edge_index\n",
    "\n",
    "        x = self.conv1(x, edge_index)\n",
    "        x = F.relu(x) #apply ReLU activation\n",
    "        \n",
    "        x = self.conv2(x, edge_index)\n",
    "        \n",
    "        return x"
   ]
  },
  {
   "cell_type": "code",
   "execution_count": 27,
   "id": "c031a165",
   "metadata": {},
   "outputs": [],
   "source": [
    "#input channels - features per node\n",
    "#output channels - number of features to predict\n",
    "model = GNN(in_channels=3, hidden_channels=16, out_channels=1)"
   ]
  },
  {
   "cell_type": "code",
   "execution_count": 28,
   "id": "650482d8",
   "metadata": {},
   "outputs": [],
   "source": [
    "import torch.optim as optim\n",
    "criterion = F.mse_loss \n",
    "optimizer = optim.Adam(model.parameters(), lr=0.05)"
   ]
  },
  {
   "cell_type": "code",
   "execution_count": 29,
   "id": "eacf9c2d",
   "metadata": {},
   "outputs": [
    {
     "name": "stdout",
     "output_type": "stream",
     "text": [
      "Epoch: 010, Loss: 0.7109\n",
      "Epoch: 020, Loss: 0.5815\n",
      "Epoch: 030, Loss: 0.5311\n",
      "Epoch: 040, Loss: 0.4933\n",
      "Epoch: 050, Loss: 0.4481\n",
      "Epoch: 060, Loss: 0.3880\n",
      "Epoch: 070, Loss: 0.3174\n",
      "Epoch: 080, Loss: 0.2367\n",
      "Epoch: 090, Loss: 0.1574\n",
      "Epoch: 100, Loss: 0.0967\n",
      "Epoch: 110, Loss: 0.0653\n",
      "Epoch: 120, Loss: 0.0554\n",
      "Epoch: 130, Loss: 0.0516\n",
      "Epoch: 140, Loss: 0.0470\n",
      "Epoch: 150, Loss: 0.0428\n",
      "Epoch: 160, Loss: 0.0388\n",
      "Epoch: 170, Loss: 0.0351\n",
      "Epoch: 180, Loss: 0.0316\n",
      "Epoch: 190, Loss: 0.0284\n",
      "Epoch: 200, Loss: 0.0430\n"
     ]
    }
   ],
   "source": [
    "for epoch in range(200):\n",
    "    optimizer.zero_grad() #reset previous gradients\n",
    "    \n",
    "    out = model(data) #forward: get predictions\n",
    "    loss = criterion(out,data.y)\n",
    "    \n",
    "    loss.backward() #recalculate gradients\n",
    "    optimizer.step() #adjust model parameters\n",
    "\n",
    "    if (epoch + 1) % 10 == 0:\n",
    "        print(f'Epoch: {epoch+1:03d}, Loss: {loss:.4f}')"
   ]
  },
  {
   "cell_type": "code",
   "execution_count": 30,
   "id": "13889967",
   "metadata": {},
   "outputs": [],
   "source": [
    "model.eval() #disables Dropout\n",
    "\n",
    "new_x = torch.tensor([[1.5, 1.6, 1.4], [2.5, 2.6, 2.4], [3.8, 3.9, 3.7]], dtype=torch.float)\n",
    "\n",
    "new_data = Data(x=new_x, edge_index=edge_index)\n"
   ]
  },
  {
   "cell_type": "code",
   "execution_count": 31,
   "id": "b1f1b3f1",
   "metadata": {},
   "outputs": [
    {
     "name": "stdout",
     "output_type": "stream",
     "text": [
      "Model Predictions:\n",
      "tensor([[2.6908],\n",
      "        [4.3161],\n",
      "        [5.1187]])\n"
     ]
    }
   ],
   "source": [
    "with torch.no_grad(): #to save memory\n",
    "    predictions = model(new_data)\n",
    "\n",
    "print(\"Model Predictions:\")\n",
    "print(predictions)"
   ]
  }
 ],
 "metadata": {
  "kernelspec": {
   "display_name": "Python 3",
   "language": "python",
   "name": "python3"
  },
  "language_info": {
   "codemirror_mode": {
    "name": "ipython",
    "version": 3
   },
   "file_extension": ".py",
   "mimetype": "text/x-python",
   "name": "python",
   "nbconvert_exporter": "python",
   "pygments_lexer": "ipython3",
   "version": "3.10.10"
  }
 },
 "nbformat": 4,
 "nbformat_minor": 5
}
